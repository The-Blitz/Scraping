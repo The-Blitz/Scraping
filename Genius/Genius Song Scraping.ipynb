{
 "cells": [
  {
   "cell_type": "code",
   "execution_count": 3,
   "metadata": {},
   "outputs": [],
   "source": [
    "import re\n",
    "from bs4 import BeautifulSoup\n",
    "#Python3: import urllib.request as urllib2\n",
    "import urllib2\n",
    "import csv"
   ]
  },
  {
   "cell_type": "code",
   "execution_count": 78,
   "metadata": {},
   "outputs": [],
   "source": [
    "def getArtistList(vocal):\n",
    "    url='http://www.genius.com/artists-index/' + vocal.lower()\n",
    "    hdr = {'User-Agent': 'Mozilla/5.0'}\n",
    "    req = urllib2.Request(url,headers=hdr)\n",
    "    page = urllib2.urlopen(req)\n",
    "    html = page.read()\n",
    "    BsObj = BeautifulSoup(html,'lxml');\n",
    "    htmltext = html.decode('utf-8')\n",
    "    artists = re.findall('<a href=\"https://genius.com/artists/(.*?)\"', htmltext,flags=re.S)\n",
    "    return (artists)\n",
    "\n",
    "#print(getArtistList('a'))"
   ]
  },
  {
   "cell_type": "code",
   "execution_count": 79,
   "metadata": {},
   "outputs": [],
   "source": [
    "def getArtistID(artist):\n",
    "    url='http://www.genius.com/artists/' + artist\n",
    "    hdr = {'User-Agent': 'Mozilla/5.0'}\n",
    "    req = urllib2.Request(url,headers=hdr)\n",
    "    page = urllib2.urlopen(req)\n",
    "    html = page.read()\n",
    "    BsObj = BeautifulSoup(html,'lxml');\n",
    "    htmltext = html.decode('utf-8')\n",
    "    artistID = re.findall('<meta content=\"/artists/(.*?)\" name=\"newrelic-resource-path\"', htmltext,flags=re.S)\n",
    "    return (artistID[0])\n",
    "\n",
    "#print(getArtistID('Adelitas-way'))"
   ]
  },
  {
   "cell_type": "code",
   "execution_count": 85,
   "metadata": {},
   "outputs": [
    {
     "name": "stdout",
     "output_type": "stream",
     "text": [
      "Adelitas-way/Deserve-this-ep\n"
     ]
    }
   ],
   "source": [
    "def getAlbumsURL(artist,artistID):\n",
    "    url='https://genius.com/artists/albums?for_artist_page='+ artistID +'&amp;id='+artist\n",
    "    hdr = {'User-Agent': 'Mozilla/5.0'}\n",
    "    req = urllib2.Request(url,headers=hdr)\n",
    "    page = urllib2.urlopen(req)\n",
    "    html = page.read()\n",
    "    BsObj = BeautifulSoup(html,'lxml');\n",
    "    htmltext = html.decode('utf-8')\n",
    "    albums = re.findall('<li><a href=\"/albums/(.*?)\" class', htmltext,flags=re.S)\n",
    "    return (albums)\n",
    "\n",
    "\n",
    "#print(getAlbumsURL('Adelitas-way',getArtistID('Adelitas-way')))"
   ]
  },
  {
   "cell_type": "code",
   "execution_count": 95,
   "metadata": {},
   "outputs": [
    {
     "name": "stdout",
     "output_type": "stream",
     "text": [
      "[u'Deserve This', u'I Get Around', u'Filthy Heart', u'Harbor the Fugitive', u\"Sometimes You're Meant to Get Used\"]\n"
     ]
    }
   ],
   "source": [
    "def getAlbumSongs(albumURL):\n",
    "    url='https://genius.com/albums/' + albumURL\n",
    "    hdr = {'User-Agent': 'Mozilla/5.0'}\n",
    "    req = urllib2.Request(url,headers=hdr)\n",
    "    page = urllib2.urlopen(req)\n",
    "    html = page.read()\n",
    "    BsObj = BeautifulSoup(html,'lxml');\n",
    "    htmltext = html.decode('utf-8')\n",
    "    songs = re.findall('<h3 class=\"chart_row-content-title\">(.*?)<span', htmltext,flags=re.S)\n",
    "    fixSongs = [song.strip(' \\t\\n\\r') for song in songs]\n",
    "    return (fixSongs)\n",
    "\n",
    "#print(getAlbumSongs( getAlbumsURL('Adelitas-way',getArtistID('Adelitas-way'))[0] ))"
   ]
  },
  {
   "cell_type": "code",
   "execution_count": 139,
   "metadata": {},
   "outputs": [],
   "source": [
    "def getSongsbyArtist(artist):\n",
    "    print('Songs from the artist: ' + artist)\n",
    "    idArtist = getArtistID(artist)\n",
    "    #print(idArtist)\n",
    "    links=getAlbumsURL(artist,idArtist)\n",
    "    for link in links:\n",
    "        print('\\n' + 'Songs from the Album ' + link[len(artist)+1:] +'\\n')\n",
    "        songs=getAlbumSongs(link)\n",
    "        for song in songs:  \n",
    "            print(song)\n",
    "    print('\\n')        "
   ]
  },
  {
   "cell_type": "code",
   "execution_count": 140,
   "metadata": {},
   "outputs": [
    {
     "name": "stdout",
     "output_type": "stream",
     "text": [
      "Songs from the artist: Adele\n",
      "\n",
      "Songs from the Album 25\n",
      "\n",
      "Hello\n",
      "Send My Love (To Your New Lover)\n",
      "I Miss You\n",
      "When We Were Young\n",
      "Remedy\n",
      "Water Under the Bridge\n",
      "River Lea\n",
      "Love In The Dark\n",
      "Million Years Ago\n",
      "All I Ask\n",
      "Sweetest Devotion\n",
      "Can't Let Go\n",
      "Lay Me Down\n",
      "Why Do You Love Me\n",
      "25 Thank You Letter\n",
      "25 [Booklet]\n",
      "25 [Tracklist + Album Cover]\n",
      "\n",
      "Songs from the Album 21\n",
      "\n",
      "Rolling in the Deep\n",
      "Rumour Has It\n",
      "Turning Tables\n",
      "Don't You Remember\n",
      "Set Fire to the Rain\n",
      "He Won't Go\n",
      "Take It All\n",
      "I'll Be Waiting\n",
      "One and Only\n",
      "Lovesong\n",
      "Someone Like You\n",
      "I Found a Boy\n",
      "21 [Tracklist + Album Cover]\n",
      "21 [Booklet]\n",
      "\n",
      "Songs from the Album 19\n",
      "\n",
      "Daydreamer\n",
      "Best for Last\n",
      "Chasing Pavements\n",
      "Cold Shoulder\n",
      "Crazy for You\n",
      "Melt My Heart to Stone\n",
      "First Love\n",
      "Right as Rain\n",
      "Make You Feel My Love\n",
      "My Same\n",
      "Tired\n",
      "Hometown Glory\n",
      "Painting Pictures\n",
      "Now and Then\n",
      "That's It, I Quit, I'm Movin' On\n",
      "19 [Tracklist + Album Art]\n",
      "19 [Booklet]\n",
      "\n",
      "\n",
      "Songs from the artist: Bad-bunny\n",
      "\n",
      "\n"
     ]
    }
   ],
   "source": [
    "for i in range(ord('a'), ord('b')+1): # change b for z\n",
    "    artistList = getArtistList(chr(i))\n",
    "    for artist in artistList:\n",
    "        getSongsbyArtist(artist)\n",
    "        break; # remove break\n",
    "        \n",
    "#follow the notes and you will get all songs        "
   ]
  },
  {
   "cell_type": "code",
   "execution_count": null,
   "metadata": {
    "collapsed": true
   },
   "outputs": [],
   "source": []
  }
 ],
 "metadata": {
  "kernelspec": {
   "display_name": "Python 2",
   "language": "python",
   "name": "python2"
  },
  "language_info": {
   "codemirror_mode": {
    "name": "ipython",
    "version": 2
   },
   "file_extension": ".py",
   "mimetype": "text/x-python",
   "name": "python",
   "nbconvert_exporter": "python",
   "pygments_lexer": "ipython2",
   "version": "2.7.12"
  }
 },
 "nbformat": 4,
 "nbformat_minor": 2
}
